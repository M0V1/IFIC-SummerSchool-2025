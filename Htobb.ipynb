{
 "cells": [
  {
   "cell_type": "code",
   "execution_count": null,
   "id": "b4ed9437-fec3-4312-b4ab-f5c7f6c11768",
   "metadata": {},
   "outputs": [],
   "source": [
    "!rm -rf IFIC-SummerSchool-2025\n",
    "!git clone https://github.com/M0V1/IFIC-SummerSchool-2025.git\n",
    "!pip install  numpy pandas uproot matplotlib mplhep awkward"
   ]
  }
 ],
 "metadata": {
  "kernelspec": {
   "display_name": "Python 3 (ipykernel)",
   "language": "python",
   "name": "python3"
  },
  "language_info": {
   "codemirror_mode": {
    "name": "ipython",
    "version": 3
   },
   "file_extension": ".py",
   "mimetype": "text/x-python",
   "name": "python",
   "nbconvert_exporter": "python",
   "pygments_lexer": "ipython3",
   "version": "3.11.9"
  }
 },
 "nbformat": 4,
 "nbformat_minor": 5
}
