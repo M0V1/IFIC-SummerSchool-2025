{
  "cells": [
    {
      "cell_type": "code",
      "source": [
        "!rm -rf IFIC-SummerSchool-2025\n",
        "!git clone https://github.com/M0V1/IFIC-SummerSchool-2025.git\n",
        "!pip install  numpy pandas uproot matplotlib mplhep awkward"
      ],
      "metadata": {
        "id": "mQoH5y4yxIlR",
        "outputId": "0f31988e-8cb1-42ae-9d1c-b845713ecb8d",
        "colab": {
          "base_uri": "https://localhost:8080/"
        }
      },
      "id": "mQoH5y4yxIlR",
      "execution_count": 1,
      "outputs": [
        {
          "output_type": "stream",
          "name": "stdout",
          "text": [
            "Cloning into 'IFIC-SummerSchool-2025'...\n",
            "remote: Enumerating objects: 89, done.\u001b[K\n",
            "remote: Counting objects: 100% (89/89), done.\u001b[K\n",
            "remote: Compressing objects: 100% (86/86), done.\u001b[K\n",
            "remote: Total 89 (delta 38), reused 4 (delta 1), pack-reused 0 (from 0)\u001b[K\n",
            "Receiving objects: 100% (89/89), 74.95 MiB | 13.40 MiB/s, done.\n",
            "Resolving deltas: 100% (38/38), done.\n",
            "Updating files: 100% (20/20), done.\n",
            "Requirement already satisfied: numpy in /usr/local/lib/python3.11/dist-packages (2.0.2)\n",
            "Requirement already satisfied: pandas in /usr/local/lib/python3.11/dist-packages (2.2.2)\n",
            "Collecting uproot\n",
            "  Downloading uproot-5.6.3-py3-none-any.whl.metadata (33 kB)\n",
            "Requirement already satisfied: matplotlib in /usr/local/lib/python3.11/dist-packages (3.10.0)\n",
            "Collecting mplhep\n",
            "  Downloading mplhep-0.4.0-py3-none-any.whl.metadata (10 kB)\n",
            "Collecting awkward\n",
            "  Downloading awkward-2.8.5-py3-none-any.whl.metadata (6.9 kB)\n",
            "Requirement already satisfied: python-dateutil>=2.8.2 in /usr/local/lib/python3.11/dist-packages (from pandas) (2.9.0.post0)\n",
            "Requirement already satisfied: pytz>=2020.1 in /usr/local/lib/python3.11/dist-packages (from pandas) (2025.2)\n",
            "Requirement already satisfied: tzdata>=2022.7 in /usr/local/lib/python3.11/dist-packages (from pandas) (2025.2)\n",
            "Requirement already satisfied: cramjam>=2.5.0 in /usr/local/lib/python3.11/dist-packages (from uproot) (2.10.0)\n",
            "Requirement already satisfied: fsspec in /usr/local/lib/python3.11/dist-packages (from uproot) (2025.3.2)\n",
            "Requirement already satisfied: packaging in /usr/local/lib/python3.11/dist-packages (from uproot) (24.2)\n",
            "Requirement already satisfied: xxhash in /usr/local/lib/python3.11/dist-packages (from uproot) (3.5.0)\n",
            "Requirement already satisfied: contourpy>=1.0.1 in /usr/local/lib/python3.11/dist-packages (from matplotlib) (1.3.2)\n",
            "Requirement already satisfied: cycler>=0.10 in /usr/local/lib/python3.11/dist-packages (from matplotlib) (0.12.1)\n",
            "Requirement already satisfied: fonttools>=4.22.0 in /usr/local/lib/python3.11/dist-packages (from matplotlib) (4.58.5)\n",
            "Requirement already satisfied: kiwisolver>=1.3.1 in /usr/local/lib/python3.11/dist-packages (from matplotlib) (1.4.8)\n",
            "Requirement already satisfied: pillow>=8 in /usr/local/lib/python3.11/dist-packages (from matplotlib) (11.2.1)\n",
            "Requirement already satisfied: pyparsing>=2.3.1 in /usr/local/lib/python3.11/dist-packages (from matplotlib) (3.2.3)\n",
            "Collecting mplhep-data>=0.0.4 (from mplhep)\n",
            "  Downloading mplhep_data-0.0.4-py3-none-any.whl.metadata (3.4 kB)\n",
            "Collecting uhi>=0.2.0 (from mplhep)\n",
            "  Downloading uhi-0.5.0-py3-none-any.whl.metadata (7.5 kB)\n",
            "Collecting awkward-cpp==47 (from awkward)\n",
            "  Downloading awkward_cpp-47-cp311-cp311-manylinux_2_27_x86_64.manylinux_2_28_x86_64.whl.metadata (2.1 kB)\n",
            "Requirement already satisfied: importlib-metadata>=4.13.0 in /usr/local/lib/python3.11/dist-packages (from awkward) (8.7.0)\n",
            "Requirement already satisfied: zipp>=3.20 in /usr/local/lib/python3.11/dist-packages (from importlib-metadata>=4.13.0->awkward) (3.23.0)\n",
            "Requirement already satisfied: six>=1.5 in /usr/local/lib/python3.11/dist-packages (from python-dateutil>=2.8.2->pandas) (1.17.0)\n",
            "Downloading uproot-5.6.3-py3-none-any.whl (382 kB)\n",
            "\u001b[2K   \u001b[90m━━━━━━━━━━━━━━━━━━━━━━━━━━━━━━━━━━━━━━━━\u001b[0m \u001b[32m382.8/382.8 kB\u001b[0m \u001b[31m16.6 MB/s\u001b[0m eta \u001b[36m0:00:00\u001b[0m\n",
            "\u001b[?25hDownloading mplhep-0.4.0-py3-none-any.whl (48 kB)\n",
            "\u001b[2K   \u001b[90m━━━━━━━━━━━━━━━━━━━━━━━━━━━━━━━━━━━━━━━━\u001b[0m \u001b[32m48.4/48.4 kB\u001b[0m \u001b[31m2.7 MB/s\u001b[0m eta \u001b[36m0:00:00\u001b[0m\n",
            "\u001b[?25hDownloading awkward-2.8.5-py3-none-any.whl (886 kB)\n",
            "\u001b[2K   \u001b[90m━━━━━━━━━━━━━━━━━━━━━━━━━━━━━━━━━━━━━━━━\u001b[0m \u001b[32m886.8/886.8 kB\u001b[0m \u001b[31m31.5 MB/s\u001b[0m eta \u001b[36m0:00:00\u001b[0m\n",
            "\u001b[?25hDownloading awkward_cpp-47-cp311-cp311-manylinux_2_27_x86_64.manylinux_2_28_x86_64.whl (638 kB)\n",
            "\u001b[2K   \u001b[90m━━━━━━━━━━━━━━━━━━━━━━━━━━━━━━━━━━━━━━━━\u001b[0m \u001b[32m638.8/638.8 kB\u001b[0m \u001b[31m24.7 MB/s\u001b[0m eta \u001b[36m0:00:00\u001b[0m\n",
            "\u001b[?25hDownloading mplhep_data-0.0.4-py3-none-any.whl (9.1 MB)\n",
            "\u001b[2K   \u001b[90m━━━━━━━━━━━━━━━━━━━━━━━━━━━━━━━━━━━━━━━━\u001b[0m \u001b[32m9.1/9.1 MB\u001b[0m \u001b[31m54.5 MB/s\u001b[0m eta \u001b[36m0:00:00\u001b[0m\n",
            "\u001b[?25hDownloading uhi-0.5.0-py3-none-any.whl (13 kB)\n",
            "Installing collected packages: uhi, mplhep-data, awkward-cpp, awkward, uproot, mplhep\n",
            "Successfully installed awkward-2.8.5 awkward-cpp-47 mplhep-0.4.0 mplhep-data-0.0.4 uhi-0.5.0 uproot-5.6.3\n"
          ]
        }
      ]
    },
    {
      "cell_type": "code",
      "source": [
        "from google.colab import drive\n",
        "drive.mount('/content/drive')"
      ],
      "metadata": {
        "id": "5ua5-ON93Z7p",
        "outputId": "e2c1b923-d706-4437-a54b-69d766d1f02e",
        "colab": {
          "base_uri": "https://localhost:8080/"
        }
      },
      "id": "5ua5-ON93Z7p",
      "execution_count": 47,
      "outputs": [
        {
          "output_type": "stream",
          "name": "stdout",
          "text": [
            "Mounted at /content/drive\n"
          ]
        }
      ]
    },
    {
      "cell_type": "code",
      "source": [
        "import uproot\n",
        "import awkward as ak\n",
        "import numpy as np\n",
        "import matplotlib.pyplot as plt\n",
        "from matplotlib.ticker import AutoMinorLocator\n",
        "from concurrent.futures import ProcessPoolExecutor, as_completed\n",
        "import time\n",
        "\n",
        "# Integrated luminosity in inverse picobarns\n",
        "lumi = 36000."
      ],
      "metadata": {
        "id": "vNk0t-yqxi5m"
      },
      "id": "vNk0t-yqxi5m",
      "execution_count": 60,
      "outputs": []
    },
    {
      "cell_type": "code",
      "source": [
        "files = [\n",
        "    \"IFIC-SummerSchool-2025/ODEO_FEB2025_v0_2J2LMET30_mc_700903.Sh_2214_Ztt_maxHTpTV2_Mll10_40_CVetoBVeto.2J2LMET30.root\",   #bkg\n",
        "    \"IFIC-SummerSchool-2025/ODEO_FEB2025_v0_2J2LMET30_mc_410471.PhPy8EG_A14_ttbar_hdamp258p75_allhad.2J2LMET30.root\",     #bkg\n",
        "    \"IFIC-SummerSchool-2025/ODEO_FEB2025_v0_2J2LMET30_mc_345121.PowhegPy8EG_NNLOPS_nnlo_30_ggH125_tautaulm15hp20.2J2LMET30.root\", #signal\n",
        "    \"IFIC-SummerSchool-2025/ODEO_FEB2025_v0_2J2LMET30_mc_345122.PowhegPy8EG_NNLOPS_nnlo_30_ggH125_tautaulp15hm20.2J2LMET30.root\",#signal\n",
        "    \"IFIC-SummerSchool-2025/ODEO_FEB2025_v0_2J2LMET30_mc_346343.PhPy8EG_A14NNPDF23_NNPDF30ME_ttH125_allhad.2J2LMET30.root\",\n",
        "    \"IFIC-SummerSchool-2025/ODEO_FEB2025_v0_2J2LMET30_mc_700792.Sh_2214_Ztautau_maxHTpTV2_BFilter.2J2LMET30.root\",     #bkg\n",
        "    \"IFIC-SummerSchool-2025/ODEO_FEB2025_v0_2J2LMET30_data15_periodF.2J2LMET30.root\",  #data\n",
        "    \"IFIC-SummerSchool-2025/ODEO_FEB2025_v0_2J2LMET30_mc_346344.PhPy8EG_A14NNPDF23_NNPDF30ME_ttH125_semilep.2J2LMET30.root\", #signal\n",
        "    \"IFIC-SummerSchool-2025/ODEO_FEB2025_v0_2J2LMET30_data15_periodH.2J2LMET30.root\",  #data\n",
        "    \"IFIC-SummerSchool-2025/ODEO_FEB2025_v0_2J2LMET30_mc_700902.Sh_2214_Ztt_maxHTpTV2_Mll10_40_CFilterBVeto.2J2LMET30.root\", #bkg\n",
        "    \"IFIC-SummerSchool-2025/ODEO_FEB2025_v0_2J2LMET30_mc_345120.PowhegPy8EG_NNLOPS_nnlo_30_ggH125_tautaul13l7.2J2LMET30.root\",\n",
        "    \"IFIC-SummerSchool-2025/ODEO_FEB2025_v0_2J2LMET30_mc_700901.Sh_2214_Ztt_maxHTpTV2_Mll10_40_BFilter.2J2LMET30.root\" #bkg\n",
        "]\n",
        "import os\n",
        "\n",
        "files_data=[\"/content/drive/MyDrive/Colab Notebooks/data15_periodD.2bjets70.root\"]\n",
        "tree_name = \"analysis\""
      ],
      "metadata": {
        "id": "geULU0-FzmsI"
      },
      "id": "geULU0-FzmsI",
      "execution_count": 68,
      "outputs": []
    },
    {
      "cell_type": "code",
      "source": [
        "def calc_weight(data):\n",
        "    weight_list = ( data[\"ScaleFactor_PILEUP\"] *\n",
        "                   (data[\"ScaleFactor_BTAG\"] * data[\"mcWeight\"] / data[\"sum_of_weights\"]) *\n",
        "                   (data[\"xsec\"] * data[\"filteff\"] * data[\"kfac\"] * lumi))\n",
        "    return weight_list"
      ],
      "metadata": {
        "id": "iIyYWMfZz2AE"
      },
      "id": "iIyYWMfZz2AE",
      "execution_count": 69,
      "outputs": []
    },
    {
      "cell_type": "code",
      "source": [
        "def Hmass(E, pt, eta, phi):\n",
        "    jet_E = ak.sum(E, axis=1)\n",
        "    jet_px = ak.sum(pt * np.cos(phi), axis=1)\n",
        "    jet_py = ak.sum(pt * np.sin(phi), axis=1)\n",
        "    jet_pz = ak.sum(pt * np.tanh(eta), axis=1)\n",
        "    Mass = np.sqrt(jet_E**2 - (jet_px**2 + jet_py**2 + jet_pz**2))\n",
        "    return Mass"
      ],
      "metadata": {
        "id": "RaRNRbB0z2G7"
      },
      "id": "RaRNRbB0z2G7",
      "execution_count": 70,
      "outputs": []
    },
    {
      "cell_type": "code",
      "source": [
        "def process_file(file_path, tree_name, loop):\n",
        "    tree = uproot.open(f\"{file_path}:{tree_name}\")\n",
        "    sample_data = []\n",
        "\n",
        "    variables = [ \"met\", \"lep_type\", \"lep_isMediumID\", \"lep_isLooseIso\", \"jet_e\", \"jet_pt\", \"jet_eta\", \"jet_phi\", \"jet_btag_quantile\",  \"ScaleFactor_PILEUP\", \"ScaleFactor_BTAG\", \"mcWeight\", \"sum_of_weights\", \"xsec\", \"filteff\", \"kfac\"]\n",
        "\n",
        "    for data in tree.iterate(variables, library=\"ak\", entry_start=int(tree.num_entries * fraction * loop), entry_stop=int(tree.num_entries * fraction * (loop + 1))):\n",
        "\n",
        "        data['Inv_mass'] = Hmass(data.jet_e, data.jet_pt, data.jet_eta, data.jet_phi)\n",
        "        data['Weight'] = calc_weight(data)\n",
        "        sample_data.append(data)\n",
        "\n",
        "    return ak.concatenate(sample_data, axis=0)"
      ],
      "metadata": {
        "id": "NB2AwX7A0Eat"
      },
      "id": "NB2AwX7A0Eat",
      "execution_count": 71,
      "outputs": []
    },
    {
      "cell_type": "code",
      "source": [
        "def parallel_analysis(file_list, tree_name):\n",
        "    combined_data = []\n",
        "    for file_path in file_list:\n",
        "        with ProcessPoolExecutor() as executor:\n",
        "            futures = {executor.submit(process_file, file_path, tree_name, i): i for i in range(10)}\n",
        "            results = []\n",
        "            for future in as_completed(futures):\n",
        "                try:\n",
        "                    results.append(future.result())\n",
        "                except Exception as e:\n",
        "                    print(f\"Error in file {file_path}, loop {futures[future]}: {e}\")\n",
        "        if results:\n",
        "            combined_data.append(ak.concatenate(results, axis=0))\n",
        "\n",
        "    return ak.concatenate(combined_data, axis=0) if combined_data else ak.Array([])"
      ],
      "metadata": {
        "id": "li6gjznZ0YT2"
      },
      "id": "li6gjznZ0YT2",
      "execution_count": 72,
      "outputs": []
    },
    {
      "cell_type": "code",
      "source": [
        "# Main analysis loop\n",
        "start_all = time.time()\n",
        "fraction = 1\n",
        "print(\"The analysis has started\")\n",
        "\n",
        "bkg_files = [\n",
        "    files[0],  # Ztt_maxHTpTV2_Mll10_40_CVetoBVeto\n",
        "    files[1],  # ttbar_allhad\n",
        "    files[5],  # Ztautau_maxHTpTV2_BFilter\n",
        "    files[9], # Ztt_maxHTpTV2_CFilterBVeto\n",
        "    files[11]  # Ztt_maxHTpTV2_BFilter\n",
        "]\n",
        "\n",
        "signal_files = [\n",
        "    files[2],  # ggH125_tautaulm15hp20\n",
        "    files[3],  # ggH125_tautaulp15hm20\n",
        "    files[10], # ggH125_tautaul13l7\n",
        "    files[4],  # ttH125_allhad\n",
        "    files[7],  # ttH125_semilep\n",
        "]\n",
        "\n",
        "data_files = [\n",
        "    files_data[0]\n",
        "    #files[6],  # data15_periodF\n",
        "    #files[8],  # data15_periodD\n",
        "    #files[9],  # data15_periodH\n",
        "]\n",
        "\n",
        "bkg_data = parallel_analysis(bkg_files, tree_name)\n",
        "signal_data = parallel_analysis(signal_files, tree_name)\n",
        "data_data = parallel_analysis(data_files, tree_name)"
      ],
      "metadata": {
        "id": "CfMpZjN60a3Q",
        "outputId": "8d672001-bb0e-463a-c1e1-f73583837963",
        "colab": {
          "base_uri": "https://localhost:8080/"
        }
      },
      "id": "CfMpZjN60a3Q",
      "execution_count": 73,
      "outputs": [
        {
          "output_type": "stream",
          "name": "stdout",
          "text": [
            "The analysis has started\n",
            "Error in file IFIC-SummerSchool-2025/ODEO_FEB2025_v0_2J2LMET30_mc_700903.Sh_2214_Ztt_maxHTpTV2_Mll10_40_CVetoBVeto.2J2LMET30.root, loop 1: reduce() of empty iterable with no initial value\n",
            "Error in file IFIC-SummerSchool-2025/ODEO_FEB2025_v0_2J2LMET30_mc_700903.Sh_2214_Ztt_maxHTpTV2_Mll10_40_CVetoBVeto.2J2LMET30.root, loop 2: reduce() of empty iterable with no initial value\n",
            "Error in file IFIC-SummerSchool-2025/ODEO_FEB2025_v0_2J2LMET30_mc_700903.Sh_2214_Ztt_maxHTpTV2_Mll10_40_CVetoBVeto.2J2LMET30.root, loop 3: reduce() of empty iterable with no initial value\n",
            "Error in file IFIC-SummerSchool-2025/ODEO_FEB2025_v0_2J2LMET30_mc_700903.Sh_2214_Ztt_maxHTpTV2_Mll10_40_CVetoBVeto.2J2LMET30.root, loop 4: reduce() of empty iterable with no initial value\n",
            "Error in file IFIC-SummerSchool-2025/ODEO_FEB2025_v0_2J2LMET30_mc_700903.Sh_2214_Ztt_maxHTpTV2_Mll10_40_CVetoBVeto.2J2LMET30.root, loop 5: reduce() of empty iterable with no initial value\n",
            "Error in file IFIC-SummerSchool-2025/ODEO_FEB2025_v0_2J2LMET30_mc_700903.Sh_2214_Ztt_maxHTpTV2_Mll10_40_CVetoBVeto.2J2LMET30.root, loop 6: reduce() of empty iterable with no initial value\n",
            "Error in file IFIC-SummerSchool-2025/ODEO_FEB2025_v0_2J2LMET30_mc_700903.Sh_2214_Ztt_maxHTpTV2_Mll10_40_CVetoBVeto.2J2LMET30.root, loop 7: reduce() of empty iterable with no initial value\n",
            "Error in file IFIC-SummerSchool-2025/ODEO_FEB2025_v0_2J2LMET30_mc_700903.Sh_2214_Ztt_maxHTpTV2_Mll10_40_CVetoBVeto.2J2LMET30.root, loop 8: reduce() of empty iterable with no initial value\n",
            "Error in file IFIC-SummerSchool-2025/ODEO_FEB2025_v0_2J2LMET30_mc_700903.Sh_2214_Ztt_maxHTpTV2_Mll10_40_CVetoBVeto.2J2LMET30.root, loop 9: reduce() of empty iterable with no initial value\n",
            "Error in file IFIC-SummerSchool-2025/ODEO_FEB2025_v0_2J2LMET30_mc_410471.PhPy8EG_A14_ttbar_hdamp258p75_allhad.2J2LMET30.root, loop 1: reduce() of empty iterable with no initial value\n",
            "Error in file IFIC-SummerSchool-2025/ODEO_FEB2025_v0_2J2LMET30_mc_410471.PhPy8EG_A14_ttbar_hdamp258p75_allhad.2J2LMET30.root, loop 2: reduce() of empty iterable with no initial value\n",
            "Error in file IFIC-SummerSchool-2025/ODEO_FEB2025_v0_2J2LMET30_mc_410471.PhPy8EG_A14_ttbar_hdamp258p75_allhad.2J2LMET30.root, loop 3: reduce() of empty iterable with no initial value\n",
            "Error in file IFIC-SummerSchool-2025/ODEO_FEB2025_v0_2J2LMET30_mc_410471.PhPy8EG_A14_ttbar_hdamp258p75_allhad.2J2LMET30.root, loop 4: reduce() of empty iterable with no initial value\n",
            "Error in file IFIC-SummerSchool-2025/ODEO_FEB2025_v0_2J2LMET30_mc_410471.PhPy8EG_A14_ttbar_hdamp258p75_allhad.2J2LMET30.root, loop 5: reduce() of empty iterable with no initial value\n",
            "Error in file IFIC-SummerSchool-2025/ODEO_FEB2025_v0_2J2LMET30_mc_410471.PhPy8EG_A14_ttbar_hdamp258p75_allhad.2J2LMET30.root, loop 6: reduce() of empty iterable with no initial value\n",
            "Error in file IFIC-SummerSchool-2025/ODEO_FEB2025_v0_2J2LMET30_mc_410471.PhPy8EG_A14_ttbar_hdamp258p75_allhad.2J2LMET30.root, loop 7: reduce() of empty iterable with no initial value\n",
            "Error in file IFIC-SummerSchool-2025/ODEO_FEB2025_v0_2J2LMET30_mc_410471.PhPy8EG_A14_ttbar_hdamp258p75_allhad.2J2LMET30.root, loop 8: reduce() of empty iterable with no initial value\n",
            "Error in file IFIC-SummerSchool-2025/ODEO_FEB2025_v0_2J2LMET30_mc_410471.PhPy8EG_A14_ttbar_hdamp258p75_allhad.2J2LMET30.root, loop 9: reduce() of empty iterable with no initial value\n",
            "Error in file IFIC-SummerSchool-2025/ODEO_FEB2025_v0_2J2LMET30_mc_700792.Sh_2214_Ztautau_maxHTpTV2_BFilter.2J2LMET30.root, loop 1: reduce() of empty iterable with no initial value\n",
            "Error in file IFIC-SummerSchool-2025/ODEO_FEB2025_v0_2J2LMET30_mc_700792.Sh_2214_Ztautau_maxHTpTV2_BFilter.2J2LMET30.root, loop 2: reduce() of empty iterable with no initial value\n",
            "Error in file IFIC-SummerSchool-2025/ODEO_FEB2025_v0_2J2LMET30_mc_700792.Sh_2214_Ztautau_maxHTpTV2_BFilter.2J2LMET30.root, loop 3: reduce() of empty iterable with no initial value\n",
            "Error in file IFIC-SummerSchool-2025/ODEO_FEB2025_v0_2J2LMET30_mc_700792.Sh_2214_Ztautau_maxHTpTV2_BFilter.2J2LMET30.root, loop 4: reduce() of empty iterable with no initial value\n",
            "Error in file IFIC-SummerSchool-2025/ODEO_FEB2025_v0_2J2LMET30_mc_700792.Sh_2214_Ztautau_maxHTpTV2_BFilter.2J2LMET30.root, loop 5: reduce() of empty iterable with no initial value\n",
            "Error in file IFIC-SummerSchool-2025/ODEO_FEB2025_v0_2J2LMET30_mc_700792.Sh_2214_Ztautau_maxHTpTV2_BFilter.2J2LMET30.root, loop 6: reduce() of empty iterable with no initial value\n",
            "Error in file IFIC-SummerSchool-2025/ODEO_FEB2025_v0_2J2LMET30_mc_700792.Sh_2214_Ztautau_maxHTpTV2_BFilter.2J2LMET30.root, loop 7: reduce() of empty iterable with no initial value\n",
            "Error in file IFIC-SummerSchool-2025/ODEO_FEB2025_v0_2J2LMET30_mc_700792.Sh_2214_Ztautau_maxHTpTV2_BFilter.2J2LMET30.root, loop 8: reduce() of empty iterable with no initial value\n",
            "Error in file IFIC-SummerSchool-2025/ODEO_FEB2025_v0_2J2LMET30_mc_700792.Sh_2214_Ztautau_maxHTpTV2_BFilter.2J2LMET30.root, loop 9: reduce() of empty iterable with no initial value\n",
            "Error in file IFIC-SummerSchool-2025/ODEO_FEB2025_v0_2J2LMET30_mc_700902.Sh_2214_Ztt_maxHTpTV2_Mll10_40_CFilterBVeto.2J2LMET30.root, loop 1: reduce() of empty iterable with no initial value\n",
            "Error in file IFIC-SummerSchool-2025/ODEO_FEB2025_v0_2J2LMET30_mc_700902.Sh_2214_Ztt_maxHTpTV2_Mll10_40_CFilterBVeto.2J2LMET30.root, loop 2: reduce() of empty iterable with no initial value\n",
            "Error in file IFIC-SummerSchool-2025/ODEO_FEB2025_v0_2J2LMET30_mc_700902.Sh_2214_Ztt_maxHTpTV2_Mll10_40_CFilterBVeto.2J2LMET30.root, loop 3: reduce() of empty iterable with no initial value\n",
            "Error in file IFIC-SummerSchool-2025/ODEO_FEB2025_v0_2J2LMET30_mc_700902.Sh_2214_Ztt_maxHTpTV2_Mll10_40_CFilterBVeto.2J2LMET30.root, loop 4: reduce() of empty iterable with no initial value\n",
            "Error in file IFIC-SummerSchool-2025/ODEO_FEB2025_v0_2J2LMET30_mc_700902.Sh_2214_Ztt_maxHTpTV2_Mll10_40_CFilterBVeto.2J2LMET30.root, loop 5: reduce() of empty iterable with no initial value\n",
            "Error in file IFIC-SummerSchool-2025/ODEO_FEB2025_v0_2J2LMET30_mc_700902.Sh_2214_Ztt_maxHTpTV2_Mll10_40_CFilterBVeto.2J2LMET30.root, loop 7: reduce() of empty iterable with no initial value\n",
            "Error in file IFIC-SummerSchool-2025/ODEO_FEB2025_v0_2J2LMET30_mc_700902.Sh_2214_Ztt_maxHTpTV2_Mll10_40_CFilterBVeto.2J2LMET30.root, loop 6: reduce() of empty iterable with no initial value\n",
            "Error in file IFIC-SummerSchool-2025/ODEO_FEB2025_v0_2J2LMET30_mc_700902.Sh_2214_Ztt_maxHTpTV2_Mll10_40_CFilterBVeto.2J2LMET30.root, loop 8: reduce() of empty iterable with no initial value\n",
            "Error in file IFIC-SummerSchool-2025/ODEO_FEB2025_v0_2J2LMET30_mc_700902.Sh_2214_Ztt_maxHTpTV2_Mll10_40_CFilterBVeto.2J2LMET30.root, loop 9: reduce() of empty iterable with no initial value\n",
            "Error in file IFIC-SummerSchool-2025/ODEO_FEB2025_v0_2J2LMET30_mc_700901.Sh_2214_Ztt_maxHTpTV2_Mll10_40_BFilter.2J2LMET30.root, loop 1: reduce() of empty iterable with no initial value\n",
            "Error in file IFIC-SummerSchool-2025/ODEO_FEB2025_v0_2J2LMET30_mc_700901.Sh_2214_Ztt_maxHTpTV2_Mll10_40_BFilter.2J2LMET30.root, loop 2: reduce() of empty iterable with no initial value\n",
            "Error in file IFIC-SummerSchool-2025/ODEO_FEB2025_v0_2J2LMET30_mc_700901.Sh_2214_Ztt_maxHTpTV2_Mll10_40_BFilter.2J2LMET30.root, loop 3: reduce() of empty iterable with no initial value\n",
            "Error in file IFIC-SummerSchool-2025/ODEO_FEB2025_v0_2J2LMET30_mc_700901.Sh_2214_Ztt_maxHTpTV2_Mll10_40_BFilter.2J2LMET30.root, loop 4: reduce() of empty iterable with no initial value\n",
            "Error in file IFIC-SummerSchool-2025/ODEO_FEB2025_v0_2J2LMET30_mc_700901.Sh_2214_Ztt_maxHTpTV2_Mll10_40_BFilter.2J2LMET30.root, loop 5: reduce() of empty iterable with no initial value\n",
            "Error in file IFIC-SummerSchool-2025/ODEO_FEB2025_v0_2J2LMET30_mc_700901.Sh_2214_Ztt_maxHTpTV2_Mll10_40_BFilter.2J2LMET30.root, loop 6: reduce() of empty iterable with no initial value\n",
            "Error in file IFIC-SummerSchool-2025/ODEO_FEB2025_v0_2J2LMET30_mc_700901.Sh_2214_Ztt_maxHTpTV2_Mll10_40_BFilter.2J2LMET30.root, loop 7: reduce() of empty iterable with no initial value\n",
            "Error in file IFIC-SummerSchool-2025/ODEO_FEB2025_v0_2J2LMET30_mc_700901.Sh_2214_Ztt_maxHTpTV2_Mll10_40_BFilter.2J2LMET30.root, loop 8: reduce() of empty iterable with no initial value\n",
            "Error in file IFIC-SummerSchool-2025/ODEO_FEB2025_v0_2J2LMET30_mc_700901.Sh_2214_Ztt_maxHTpTV2_Mll10_40_BFilter.2J2LMET30.root, loop 9: reduce() of empty iterable with no initial value\n",
            "Error in file IFIC-SummerSchool-2025/ODEO_FEB2025_v0_2J2LMET30_mc_345121.PowhegPy8EG_NNLOPS_nnlo_30_ggH125_tautaulm15hp20.2J2LMET30.root, loop 1: reduce() of empty iterable with no initial value\n",
            "Error in file IFIC-SummerSchool-2025/ODEO_FEB2025_v0_2J2LMET30_mc_345121.PowhegPy8EG_NNLOPS_nnlo_30_ggH125_tautaulm15hp20.2J2LMET30.root, loop 2: reduce() of empty iterable with no initial value\n",
            "Error in file IFIC-SummerSchool-2025/ODEO_FEB2025_v0_2J2LMET30_mc_345121.PowhegPy8EG_NNLOPS_nnlo_30_ggH125_tautaulm15hp20.2J2LMET30.root, loop 3: reduce() of empty iterable with no initial value\n",
            "Error in file IFIC-SummerSchool-2025/ODEO_FEB2025_v0_2J2LMET30_mc_345121.PowhegPy8EG_NNLOPS_nnlo_30_ggH125_tautaulm15hp20.2J2LMET30.root, loop 4: reduce() of empty iterable with no initial value\n",
            "Error in file IFIC-SummerSchool-2025/ODEO_FEB2025_v0_2J2LMET30_mc_345121.PowhegPy8EG_NNLOPS_nnlo_30_ggH125_tautaulm15hp20.2J2LMET30.root, loop 5: reduce() of empty iterable with no initial value\n",
            "Error in file IFIC-SummerSchool-2025/ODEO_FEB2025_v0_2J2LMET30_mc_345121.PowhegPy8EG_NNLOPS_nnlo_30_ggH125_tautaulm15hp20.2J2LMET30.root, loop 6: reduce() of empty iterable with no initial value\n",
            "Error in file IFIC-SummerSchool-2025/ODEO_FEB2025_v0_2J2LMET30_mc_345121.PowhegPy8EG_NNLOPS_nnlo_30_ggH125_tautaulm15hp20.2J2LMET30.root, loop 7: reduce() of empty iterable with no initial value\n",
            "Error in file IFIC-SummerSchool-2025/ODEO_FEB2025_v0_2J2LMET30_mc_345121.PowhegPy8EG_NNLOPS_nnlo_30_ggH125_tautaulm15hp20.2J2LMET30.root, loop 8: reduce() of empty iterable with no initial value\n",
            "Error in file IFIC-SummerSchool-2025/ODEO_FEB2025_v0_2J2LMET30_mc_345121.PowhegPy8EG_NNLOPS_nnlo_30_ggH125_tautaulm15hp20.2J2LMET30.root, loop 9: reduce() of empty iterable with no initial value\n",
            "Error in file IFIC-SummerSchool-2025/ODEO_FEB2025_v0_2J2LMET30_mc_345122.PowhegPy8EG_NNLOPS_nnlo_30_ggH125_tautaulp15hm20.2J2LMET30.root, loop 1: reduce() of empty iterable with no initial value\n",
            "Error in file IFIC-SummerSchool-2025/ODEO_FEB2025_v0_2J2LMET30_mc_345122.PowhegPy8EG_NNLOPS_nnlo_30_ggH125_tautaulp15hm20.2J2LMET30.root, loop 2: reduce() of empty iterable with no initial value\n",
            "Error in file IFIC-SummerSchool-2025/ODEO_FEB2025_v0_2J2LMET30_mc_345122.PowhegPy8EG_NNLOPS_nnlo_30_ggH125_tautaulp15hm20.2J2LMET30.root, loop 3: reduce() of empty iterable with no initial value\n",
            "Error in file IFIC-SummerSchool-2025/ODEO_FEB2025_v0_2J2LMET30_mc_345122.PowhegPy8EG_NNLOPS_nnlo_30_ggH125_tautaulp15hm20.2J2LMET30.root, loop 4: reduce() of empty iterable with no initial value\n",
            "Error in file IFIC-SummerSchool-2025/ODEO_FEB2025_v0_2J2LMET30_mc_345122.PowhegPy8EG_NNLOPS_nnlo_30_ggH125_tautaulp15hm20.2J2LMET30.root, loop 5: reduce() of empty iterable with no initial value\n",
            "Error in file IFIC-SummerSchool-2025/ODEO_FEB2025_v0_2J2LMET30_mc_345122.PowhegPy8EG_NNLOPS_nnlo_30_ggH125_tautaulp15hm20.2J2LMET30.root, loop 6: reduce() of empty iterable with no initial value\n",
            "Error in file IFIC-SummerSchool-2025/ODEO_FEB2025_v0_2J2LMET30_mc_345122.PowhegPy8EG_NNLOPS_nnlo_30_ggH125_tautaulp15hm20.2J2LMET30.root, loop 7: reduce() of empty iterable with no initial value\n",
            "Error in file IFIC-SummerSchool-2025/ODEO_FEB2025_v0_2J2LMET30_mc_345122.PowhegPy8EG_NNLOPS_nnlo_30_ggH125_tautaulp15hm20.2J2LMET30.root, loop 8: reduce() of empty iterable with no initial value\n",
            "Error in file IFIC-SummerSchool-2025/ODEO_FEB2025_v0_2J2LMET30_mc_345122.PowhegPy8EG_NNLOPS_nnlo_30_ggH125_tautaulp15hm20.2J2LMET30.root, loop 9: reduce() of empty iterable with no initial value\n",
            "Error in file IFIC-SummerSchool-2025/ODEO_FEB2025_v0_2J2LMET30_mc_345120.PowhegPy8EG_NNLOPS_nnlo_30_ggH125_tautaul13l7.2J2LMET30.root, loop 1: reduce() of empty iterable with no initial value\n",
            "Error in file IFIC-SummerSchool-2025/ODEO_FEB2025_v0_2J2LMET30_mc_345120.PowhegPy8EG_NNLOPS_nnlo_30_ggH125_tautaul13l7.2J2LMET30.root, loop 2: reduce() of empty iterable with no initial value\n",
            "Error in file IFIC-SummerSchool-2025/ODEO_FEB2025_v0_2J2LMET30_mc_345120.PowhegPy8EG_NNLOPS_nnlo_30_ggH125_tautaul13l7.2J2LMET30.root, loop 3: reduce() of empty iterable with no initial value\n",
            "Error in file IFIC-SummerSchool-2025/ODEO_FEB2025_v0_2J2LMET30_mc_345120.PowhegPy8EG_NNLOPS_nnlo_30_ggH125_tautaul13l7.2J2LMET30.root, loop 4: reduce() of empty iterable with no initial value\n",
            "Error in file IFIC-SummerSchool-2025/ODEO_FEB2025_v0_2J2LMET30_mc_345120.PowhegPy8EG_NNLOPS_nnlo_30_ggH125_tautaul13l7.2J2LMET30.root, loop 5: reduce() of empty iterable with no initial value\n",
            "Error in file IFIC-SummerSchool-2025/ODEO_FEB2025_v0_2J2LMET30_mc_345120.PowhegPy8EG_NNLOPS_nnlo_30_ggH125_tautaul13l7.2J2LMET30.root, loop 6: reduce() of empty iterable with no initial value\n",
            "Error in file IFIC-SummerSchool-2025/ODEO_FEB2025_v0_2J2LMET30_mc_345120.PowhegPy8EG_NNLOPS_nnlo_30_ggH125_tautaul13l7.2J2LMET30.root, loop 7: reduce() of empty iterable with no initial value\n",
            "Error in file IFIC-SummerSchool-2025/ODEO_FEB2025_v0_2J2LMET30_mc_345120.PowhegPy8EG_NNLOPS_nnlo_30_ggH125_tautaul13l7.2J2LMET30.root, loop 8: reduce() of empty iterable with no initial value\n",
            "Error in file IFIC-SummerSchool-2025/ODEO_FEB2025_v0_2J2LMET30_mc_345120.PowhegPy8EG_NNLOPS_nnlo_30_ggH125_tautaul13l7.2J2LMET30.root, loop 9: reduce() of empty iterable with no initial value\n",
            "Error in file IFIC-SummerSchool-2025/ODEO_FEB2025_v0_2J2LMET30_mc_346343.PhPy8EG_A14NNPDF23_NNPDF30ME_ttH125_allhad.2J2LMET30.root, loop 1: reduce() of empty iterable with no initial value\n",
            "Error in file IFIC-SummerSchool-2025/ODEO_FEB2025_v0_2J2LMET30_mc_346343.PhPy8EG_A14NNPDF23_NNPDF30ME_ttH125_allhad.2J2LMET30.root, loop 2: reduce() of empty iterable with no initial value\n",
            "Error in file IFIC-SummerSchool-2025/ODEO_FEB2025_v0_2J2LMET30_mc_346343.PhPy8EG_A14NNPDF23_NNPDF30ME_ttH125_allhad.2J2LMET30.root, loop 3: reduce() of empty iterable with no initial value\n",
            "Error in file IFIC-SummerSchool-2025/ODEO_FEB2025_v0_2J2LMET30_mc_346343.PhPy8EG_A14NNPDF23_NNPDF30ME_ttH125_allhad.2J2LMET30.root, loop 4: reduce() of empty iterable with no initial value\n",
            "Error in file IFIC-SummerSchool-2025/ODEO_FEB2025_v0_2J2LMET30_mc_346343.PhPy8EG_A14NNPDF23_NNPDF30ME_ttH125_allhad.2J2LMET30.root, loop 5: reduce() of empty iterable with no initial value\n",
            "Error in file IFIC-SummerSchool-2025/ODEO_FEB2025_v0_2J2LMET30_mc_346343.PhPy8EG_A14NNPDF23_NNPDF30ME_ttH125_allhad.2J2LMET30.root, loop 6: reduce() of empty iterable with no initial value\n",
            "Error in file IFIC-SummerSchool-2025/ODEO_FEB2025_v0_2J2LMET30_mc_346343.PhPy8EG_A14NNPDF23_NNPDF30ME_ttH125_allhad.2J2LMET30.root, loop 7: reduce() of empty iterable with no initial value\n",
            "Error in file IFIC-SummerSchool-2025/ODEO_FEB2025_v0_2J2LMET30_mc_346343.PhPy8EG_A14NNPDF23_NNPDF30ME_ttH125_allhad.2J2LMET30.root, loop 8: reduce() of empty iterable with no initial value\n",
            "Error in file IFIC-SummerSchool-2025/ODEO_FEB2025_v0_2J2LMET30_mc_346343.PhPy8EG_A14NNPDF23_NNPDF30ME_ttH125_allhad.2J2LMET30.root, loop 9: reduce() of empty iterable with no initial value\n",
            "Error in file IFIC-SummerSchool-2025/ODEO_FEB2025_v0_2J2LMET30_mc_346344.PhPy8EG_A14NNPDF23_NNPDF30ME_ttH125_semilep.2J2LMET30.root, loop 1: reduce() of empty iterable with no initial value\n",
            "Error in file IFIC-SummerSchool-2025/ODEO_FEB2025_v0_2J2LMET30_mc_346344.PhPy8EG_A14NNPDF23_NNPDF30ME_ttH125_semilep.2J2LMET30.root, loop 2: reduce() of empty iterable with no initial value\n",
            "Error in file IFIC-SummerSchool-2025/ODEO_FEB2025_v0_2J2LMET30_mc_346344.PhPy8EG_A14NNPDF23_NNPDF30ME_ttH125_semilep.2J2LMET30.root, loop 3: reduce() of empty iterable with no initial value\n",
            "Error in file IFIC-SummerSchool-2025/ODEO_FEB2025_v0_2J2LMET30_mc_346344.PhPy8EG_A14NNPDF23_NNPDF30ME_ttH125_semilep.2J2LMET30.root, loop 4: reduce() of empty iterable with no initial value\n",
            "Error in file IFIC-SummerSchool-2025/ODEO_FEB2025_v0_2J2LMET30_mc_346344.PhPy8EG_A14NNPDF23_NNPDF30ME_ttH125_semilep.2J2LMET30.root, loop 5: reduce() of empty iterable with no initial value\n",
            "Error in file IFIC-SummerSchool-2025/ODEO_FEB2025_v0_2J2LMET30_mc_346344.PhPy8EG_A14NNPDF23_NNPDF30ME_ttH125_semilep.2J2LMET30.root, loop 6: reduce() of empty iterable with no initial value\n",
            "Error in file IFIC-SummerSchool-2025/ODEO_FEB2025_v0_2J2LMET30_mc_346344.PhPy8EG_A14NNPDF23_NNPDF30ME_ttH125_semilep.2J2LMET30.root, loop 7: reduce() of empty iterable with no initial value\n",
            "Error in file IFIC-SummerSchool-2025/ODEO_FEB2025_v0_2J2LMET30_mc_346344.PhPy8EG_A14NNPDF23_NNPDF30ME_ttH125_semilep.2J2LMET30.root, loop 8: reduce() of empty iterable with no initial value\n",
            "Error in file IFIC-SummerSchool-2025/ODEO_FEB2025_v0_2J2LMET30_mc_346344.PhPy8EG_A14NNPDF23_NNPDF30ME_ttH125_semilep.2J2LMET30.root, loop 9: reduce() of empty iterable with no initial value\n",
            "Error in file /content/drive/MyDrive/Colab Notebooks/data15_periodD.2bjets70.root, loop 1: reduce() of empty iterable with no initial value\n",
            "Error in file /content/drive/MyDrive/Colab Notebooks/data15_periodD.2bjets70.root, loop 2: reduce() of empty iterable with no initial value\n",
            "Error in file /content/drive/MyDrive/Colab Notebooks/data15_periodD.2bjets70.root, loop 3: reduce() of empty iterable with no initial value\n",
            "Error in file /content/drive/MyDrive/Colab Notebooks/data15_periodD.2bjets70.root, loop 4: reduce() of empty iterable with no initial value\n",
            "Error in file /content/drive/MyDrive/Colab Notebooks/data15_periodD.2bjets70.root, loop 5: reduce() of empty iterable with no initial value\n",
            "Error in file /content/drive/MyDrive/Colab Notebooks/data15_periodD.2bjets70.root, loop 6: reduce() of empty iterable with no initial value\n",
            "Error in file /content/drive/MyDrive/Colab Notebooks/data15_periodD.2bjets70.root, loop 7: reduce() of empty iterable with no initial value\n",
            "Error in file /content/drive/MyDrive/Colab Notebooks/data15_periodD.2bjets70.root, loop 8: reduce() of empty iterable with no initial value\n",
            "Error in file /content/drive/MyDrive/Colab Notebooks/data15_periodD.2bjets70.root, loop 9: reduce() of empty iterable with no initial value\n"
          ]
        }
      ]
    },
    {
      "cell_type": "code",
      "source": [
        "def plot_data(bkg, signal, data, fit=True):\n",
        "    xmin, xmax, step_size = 100, 160, 2\n",
        "    bin_edges = np.arange(xmin, xmax + step_size, step_size)\n",
        "    bin_centres = (bin_edges[:-1] + bin_edges[1:]) / 2\n",
        "\n",
        "\n",
        "    data_y, _ = np.histogram(data['Inv_mass'], bins=bin_edges)\n",
        "    data_yerr = np.sqrt(data_y)\n",
        "\n",
        "\n",
        "    bkg_y, _ = np.histogram(bkg['Inv_mass'], bins=bin_edges, weights=bkg['Weight'])\n",
        "    signal_y, _ = np.histogram(signal['Inv_mass'], bins=bin_edges, weights=signal['Weight'])\n",
        "\n",
        "\n",
        "    stacked_mc = np.vstack([bkg_y, signal_y])\n",
        "    total_mc = np.sum(stacked_mc, axis=0)\n",
        "\n",
        "\n",
        "    total_mc_err = np.sqrt(\n",
        "        np.histogram(bkg['Inv_mass'], bins=bin_edges, weights=bkg['Weight']**2)[0] +\n",
        "        np.histogram(signal['Inv_mass'], bins=bin_edges, weights=signal['Weight']**2)[0]\n",
        "    )\n",
        "\n",
        "    fig, (main_ax, ratio_ax) = plt.subplots(2, 1, figsize=(7, 6), gridspec_kw={'height_ratios': [3, 1]}, sharex=True)\n",
        "\n",
        "    main_ax.errorbar(bin_centres, data_y, yerr=data_yerr, fmt='ko', label=f'Data ({sum(data_y)} entries)')\n",
        "\n",
        "\n",
        "    main_ax.hist([bkg['Inv_mass'], signal['Inv_mass']],\n",
        "                 bins=bin_edges,\n",
        "                 weights=[bkg['Weight'], signal['Weight']],\n",
        "                 stacked=True,\n",
        "                 color=['cyan', 'red'],\n",
        "                 label=[r'$Bkg$', r'$Signal$'])\n",
        "\n",
        "\n",
        "    main_ax.bar(bin_centres, 2 * total_mc_err, alpha=0.5, bottom=total_mc - total_mc_err,\n",
        "                color='none', hatch=\"////\", width=step_size, label='Stat. unc.')\n",
        "\n",
        "    main_ax.set_xlim(xmin, xmax)\n",
        "    main_ax.set_ylim(0, max(max(data_y), max(total_mc)) * 1.5)\n",
        "    main_ax.set_ylabel(\"Events\")\n",
        "    main_ax.text(0.05, 0.93, 'ATLAS Open Data', transform=main_ax.transAxes, fontsize=13)\n",
        "    main_ax.text(0.05, 0.88, 'for education', transform=main_ax.transAxes, style='italic', fontsize=8)\n",
        "    main_ax.text(0.05, 0.82, r'$\\sqrt{s}=13$ TeV, 36 fb$^{-1}$', transform=main_ax.transAxes)\n",
        "    main_ax.legend(frameon=False)\n",
        "\n",
        "\n",
        "    ratio = data_y / total_mc\n",
        "    ratio_err = ratio * np.sqrt((data_yerr / data_y)**2 + (total_mc_err / total_mc)**2)\n",
        "    ratio_ax.errorbar(bin_centres, ratio, yerr=ratio_err, fmt='ko')\n",
        "    ratio_ax.axhline(1, color='red', linestyle='--')\n",
        "    ratio_ax.set_ylabel(\"Data / MC\")\n",
        "    ratio_ax.set_ylim(0.5, 1.5)\n",
        "    ratio_ax.set_xlabel(r\"$m_{\\tau\\tau}$ [GeV]\")\n",
        "\n",
        "    plt.tight_layout()\n",
        "    plt.subplots_adjust(hspace=0.05)\n",
        "    plt.show()\n",
        "\n",
        "\n",
        "plot_data(bkg_data, signal_data, data_data)"
      ],
      "metadata": {
        "id": "dKBhP3Vh0dnT",
        "outputId": "dbef249c-8639-4729-9dda-d7df1fe25ed8",
        "colab": {
          "base_uri": "https://localhost:8080/",
          "height": 606
        }
      },
      "id": "dKBhP3Vh0dnT",
      "execution_count": 74,
      "outputs": [
        {
          "output_type": "display_data",
          "data": {
            "text/plain": [
              "<Figure size 700x600 with 2 Axes>"
            ],
            "image/png": "[encoded data removed]"
          },
          "metadata": {}
        }
      ]
    },
    {
      "cell_type": "code",
      "source": [],
      "metadata": {
        "id": "JVgMTpym0ih8"
      },
      "id": "JVgMTpym0ih8",
      "execution_count": null,
      "outputs": []
    }
  ],
  "metadata": {
    "kernelspec": {
      "display_name": "Python 3 (ipykernel)",
      "language": "python",
      "name": "python3"
    },
    "language_info": {
      "codemirror_mode": {
        "name": "ipython",
        "version": 3
      },
      "file_extension": ".py",
      "mimetype": "text/x-python",
      "name": "python",
      "nbconvert_exporter": "python",
      "pygments_lexer": "ipython3",
      "version": "3.11.9"
    },
    "colab": {
      "provenance": []
    }
  },
  "nbformat": 4,
  "nbformat_minor": 5
}